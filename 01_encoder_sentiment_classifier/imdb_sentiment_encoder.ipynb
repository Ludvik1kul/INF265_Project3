{
  "cells": [
    {
      "cell_type": "code",
      "source": [
        "!pip install datasets\n",
        "!pip install tokenizers\n",
        "!pip install tqdm"
      ],
      "metadata": {
        "id": "MwuC9YlY_Zwy",
        "outputId": "ade055eb-92db-40e0-f869-2dc945fe6cdb",
        "colab": {
          "base_uri": "https://localhost:8080/"
        }
      },
      "execution_count": 1,
      "outputs": [
        {
          "output_type": "stream",
          "name": "stdout",
          "text": [
            "Requirement already satisfied: datasets in /usr/local/lib/python3.11/dist-packages (3.5.0)\n",
            "Requirement already satisfied: filelock in /usr/local/lib/python3.11/dist-packages (from datasets) (3.18.0)\n",
            "Requirement already satisfied: numpy>=1.17 in /usr/local/lib/python3.11/dist-packages (from datasets) (2.0.2)\n",
            "Requirement already satisfied: pyarrow>=15.0.0 in /usr/local/lib/python3.11/dist-packages (from datasets) (18.1.0)\n",
            "Requirement already satisfied: dill<0.3.9,>=0.3.0 in /usr/local/lib/python3.11/dist-packages (from datasets) (0.3.8)\n",
            "Requirement already satisfied: pandas in /usr/local/lib/python3.11/dist-packages (from datasets) (2.2.2)\n",
            "Requirement already satisfied: requests>=2.32.2 in /usr/local/lib/python3.11/dist-packages (from datasets) (2.32.3)\n",
            "Requirement already satisfied: tqdm>=4.66.3 in /usr/local/lib/python3.11/dist-packages (from datasets) (4.67.1)\n",
            "Requirement already satisfied: xxhash in /usr/local/lib/python3.11/dist-packages (from datasets) (3.5.0)\n",
            "Requirement already satisfied: multiprocess<0.70.17 in /usr/local/lib/python3.11/dist-packages (from datasets) (0.70.16)\n",
            "Requirement already satisfied: fsspec<=2024.12.0,>=2023.1.0 in /usr/local/lib/python3.11/dist-packages (from fsspec[http]<=2024.12.0,>=2023.1.0->datasets) (2024.12.0)\n",
            "Requirement already satisfied: aiohttp in /usr/local/lib/python3.11/dist-packages (from datasets) (3.11.15)\n",
            "Requirement already satisfied: huggingface-hub>=0.24.0 in /usr/local/lib/python3.11/dist-packages (from datasets) (0.30.1)\n",
            "Requirement already satisfied: packaging in /usr/local/lib/python3.11/dist-packages (from datasets) (24.2)\n",
            "Requirement already satisfied: pyyaml>=5.1 in /usr/local/lib/python3.11/dist-packages (from datasets) (6.0.2)\n",
            "Requirement already satisfied: aiohappyeyeballs>=2.3.0 in /usr/local/lib/python3.11/dist-packages (from aiohttp->datasets) (2.6.1)\n",
            "Requirement already satisfied: aiosignal>=1.1.2 in /usr/local/lib/python3.11/dist-packages (from aiohttp->datasets) (1.3.2)\n",
            "Requirement already satisfied: attrs>=17.3.0 in /usr/local/lib/python3.11/dist-packages (from aiohttp->datasets) (25.3.0)\n",
            "Requirement already satisfied: frozenlist>=1.1.1 in /usr/local/lib/python3.11/dist-packages (from aiohttp->datasets) (1.5.0)\n",
            "Requirement already satisfied: multidict<7.0,>=4.5 in /usr/local/lib/python3.11/dist-packages (from aiohttp->datasets) (6.3.0)\n",
            "Requirement already satisfied: propcache>=0.2.0 in /usr/local/lib/python3.11/dist-packages (from aiohttp->datasets) (0.3.1)\n",
            "Requirement already satisfied: yarl<2.0,>=1.17.0 in /usr/local/lib/python3.11/dist-packages (from aiohttp->datasets) (1.18.3)\n",
            "Requirement already satisfied: typing-extensions>=3.7.4.3 in /usr/local/lib/python3.11/dist-packages (from huggingface-hub>=0.24.0->datasets) (4.13.0)\n",
            "Requirement already satisfied: charset-normalizer<4,>=2 in /usr/local/lib/python3.11/dist-packages (from requests>=2.32.2->datasets) (3.4.1)\n",
            "Requirement already satisfied: idna<4,>=2.5 in /usr/local/lib/python3.11/dist-packages (from requests>=2.32.2->datasets) (3.10)\n",
            "Requirement already satisfied: urllib3<3,>=1.21.1 in /usr/local/lib/python3.11/dist-packages (from requests>=2.32.2->datasets) (2.3.0)\n",
            "Requirement already satisfied: certifi>=2017.4.17 in /usr/local/lib/python3.11/dist-packages (from requests>=2.32.2->datasets) (2025.1.31)\n",
            "Requirement already satisfied: python-dateutil>=2.8.2 in /usr/local/lib/python3.11/dist-packages (from pandas->datasets) (2.8.2)\n",
            "Requirement already satisfied: pytz>=2020.1 in /usr/local/lib/python3.11/dist-packages (from pandas->datasets) (2025.2)\n",
            "Requirement already satisfied: tzdata>=2022.7 in /usr/local/lib/python3.11/dist-packages (from pandas->datasets) (2025.2)\n",
            "Requirement already satisfied: six>=1.5 in /usr/local/lib/python3.11/dist-packages (from python-dateutil>=2.8.2->pandas->datasets) (1.17.0)\n",
            "Requirement already satisfied: tokenizers in /usr/local/lib/python3.11/dist-packages (0.21.1)\n",
            "Requirement already satisfied: huggingface-hub<1.0,>=0.16.4 in /usr/local/lib/python3.11/dist-packages (from tokenizers) (0.30.1)\n",
            "Requirement already satisfied: filelock in /usr/local/lib/python3.11/dist-packages (from huggingface-hub<1.0,>=0.16.4->tokenizers) (3.18.0)\n",
            "Requirement already satisfied: fsspec>=2023.5.0 in /usr/local/lib/python3.11/dist-packages (from huggingface-hub<1.0,>=0.16.4->tokenizers) (2024.12.0)\n",
            "Requirement already satisfied: packaging>=20.9 in /usr/local/lib/python3.11/dist-packages (from huggingface-hub<1.0,>=0.16.4->tokenizers) (24.2)\n",
            "Requirement already satisfied: pyyaml>=5.1 in /usr/local/lib/python3.11/dist-packages (from huggingface-hub<1.0,>=0.16.4->tokenizers) (6.0.2)\n",
            "Requirement already satisfied: requests in /usr/local/lib/python3.11/dist-packages (from huggingface-hub<1.0,>=0.16.4->tokenizers) (2.32.3)\n",
            "Requirement already satisfied: tqdm>=4.42.1 in /usr/local/lib/python3.11/dist-packages (from huggingface-hub<1.0,>=0.16.4->tokenizers) (4.67.1)\n",
            "Requirement already satisfied: typing-extensions>=3.7.4.3 in /usr/local/lib/python3.11/dist-packages (from huggingface-hub<1.0,>=0.16.4->tokenizers) (4.13.0)\n",
            "Requirement already satisfied: charset-normalizer<4,>=2 in /usr/local/lib/python3.11/dist-packages (from requests->huggingface-hub<1.0,>=0.16.4->tokenizers) (3.4.1)\n",
            "Requirement already satisfied: idna<4,>=2.5 in /usr/local/lib/python3.11/dist-packages (from requests->huggingface-hub<1.0,>=0.16.4->tokenizers) (3.10)\n",
            "Requirement already satisfied: urllib3<3,>=1.21.1 in /usr/local/lib/python3.11/dist-packages (from requests->huggingface-hub<1.0,>=0.16.4->tokenizers) (2.3.0)\n",
            "Requirement already satisfied: certifi>=2017.4.17 in /usr/local/lib/python3.11/dist-packages (from requests->huggingface-hub<1.0,>=0.16.4->tokenizers) (2025.1.31)\n",
            "Requirement already satisfied: tqdm in /usr/local/lib/python3.11/dist-packages (4.67.1)\n"
          ]
        }
      ]
    },
    {
      "cell_type": "code",
      "execution_count": 2,
      "metadata": {
        "id": "lFmtUrfB9tGU"
      },
      "outputs": [],
      "source": [
        "import torch\n",
        "import torch.nn as nn\n",
        "import torch.optim as optim\n",
        "from torch.utils.data import DataLoader, Dataset\n",
        "from datasets import load_dataset\n",
        "from tokenizers import Tokenizer\n",
        "from tokenizers.models import WordLevel\n",
        "from tokenizers.pre_tokenizers import Whitespace\n",
        "from tokenizers.trainers import WordLevelTrainer\n",
        "import torch.nn.functional as F\n",
        "import torch.nn.init as init\n",
        "import numpy as np\n",
        "import matplotlib.pyplot as plt\n",
        "from tqdm import tqdm\n",
        "import re\n",
        "import os\n",
        "\n",
        "os.environ[\"TOKENIZERS_PARALLELISM\"] = \"false\" # Avoids warning from tokenizer when using num_workers > 0 in DataLoader"
      ]
    },
    {
      "cell_type": "markdown",
      "metadata": {
        "id": "s-H8SGuc9tGV"
      },
      "source": [
        "# Encoder-only Transformer for Text Sentiment Classification\n",
        "\n",
        "## 1. Data\n",
        "\n",
        "### 1.1 Load the IMDB dataset\n",
        "\n",
        "We will use the IMDB dataset for sentiment classification. The dataset consists of 50,000 movie reviews, each labeled as positive or negative. We will use 25k reviews for training, 5k for validation, and 20k for testing."
      ]
    },
    {
      "cell_type": "code",
      "execution_count": 3,
      "metadata": {
        "id": "4mSnMJ019tGX",
        "outputId": "30084e93-8da2-403c-ab8c-0dab29f8005a",
        "colab": {
          "base_uri": "https://localhost:8080/"
        }
      },
      "outputs": [
        {
          "output_type": "stream",
          "name": "stderr",
          "text": [
            "/usr/local/lib/python3.11/dist-packages/huggingface_hub/utils/_auth.py:94: UserWarning: \n",
            "The secret `HF_TOKEN` does not exist in your Colab secrets.\n",
            "To authenticate with the Hugging Face Hub, create a token in your settings tab (https://huggingface.co/settings/tokens), set it as secret in your Google Colab and restart your session.\n",
            "You will be able to reuse this secret in all of your notebooks.\n",
            "Please note that authentication is recommended but still optional to access public models or datasets.\n",
            "  warnings.warn(\n"
          ]
        },
        {
          "output_type": "stream",
          "name": "stdout",
          "text": [
            "Train size: 25000\n",
            "Validation size: 5000\n",
            "Test size: 20000\n"
          ]
        }
      ],
      "source": [
        "# Constants\n",
        "SEED = 420\n",
        "VAL_SIZE = 0.2\n",
        "\n",
        "# Load IMDB dataset\n",
        "dataset_train = load_dataset(\"imdb\", split=\"train\")\n",
        "dataset_test = load_dataset(\"imdb\", split=\"test\")\n",
        "\n",
        "# Split test into test and validation\n",
        "dataset_test = dataset_test.train_test_split(test_size=1-VAL_SIZE, seed=SEED)\n",
        "dataset_test, dataset_val = dataset_test[\"test\"], dataset_test[\"train\"]\n",
        "\n",
        "print(f\"Train size: {len(dataset_train)}\")\n",
        "print(f\"Validation size: {len(dataset_val)}\")\n",
        "print(f\"Test size: {len(dataset_test)}\")"
      ]
    },
    {
      "cell_type": "markdown",
      "metadata": {
        "id": "9SzRh3LH9tGX"
      },
      "source": [
        "### 1.2 Preprocess the data\n",
        "\n",
        "We remove HTML tags, special characters, and convert the text to lowercase."
      ]
    },
    {
      "cell_type": "code",
      "execution_count": 4,
      "metadata": {
        "id": "AKxn1Zvn9tGX"
      },
      "outputs": [],
      "source": [
        "def remove_html_tags(text):\n",
        "    # Remove HTML tags\n",
        "    return re.sub(r'<[^>]*>', '', text)\n",
        "\n",
        "def remove_special_characters(text):\n",
        "    # Remove special characters except for ,.!? and space\n",
        "    return re.sub(r'[^a-zA-Z0-9.,!? ]', '', text)\n",
        "\n",
        "def to_lowercase(text):\n",
        "    # Convert text to lowercase\n",
        "    return text.lower()\n",
        "\n",
        "def preprocess_text(text):\n",
        "    # Apply all preprocessing steps to the text\n",
        "    text = remove_html_tags(text)\n",
        "    text = remove_special_characters(text)\n",
        "    text = to_lowercase(text)\n",
        "    return text\n",
        "\n",
        "def preprocess_batch(examples):\n",
        "    # Apply preprocessing to all texts in the batch\n",
        "    examples[\"text\"] = [preprocess_text(text) for text in examples[\"text\"]]\n",
        "    return examples\n",
        "\n",
        "# Preprocess the dataset\n",
        "dataset_train = dataset_train.map(preprocess_batch, batched=True)\n",
        "dataset_val = dataset_val.map(preprocess_batch, batched=True)\n",
        "dataset_test = dataset_test.map(preprocess_batch, batched=True)"
      ]
    },
    {
      "cell_type": "markdown",
      "metadata": {
        "id": "HdID6BcT9tGY"
      },
      "source": [
        "### 1.3 Tokenization\n",
        "\n",
        "We use a simple word-level tokenizer to tokenize the text data. We use three special tokens: `[PAD]`, `[UNK]` and `[CLS]`. The `[PAD]` token will be used to pad the input sequences to the same length. The `[UNK]` token is used to represent out-of-vocabulary words (rare words). When classifying text, we will prepend the `[CLS]` token to the input sequence and use its output as the representation of the whole sequence.\n",
        "\n",
        "To reduce the vocabulary size, we only keep words appearing at least `MIN_FREQUENCY` times in the training set."
      ]
    },
    {
      "cell_type": "code",
      "execution_count": 5,
      "metadata": {
        "id": "bB8q_fbw9tGY"
      },
      "outputs": [],
      "source": [
        "# Special tokens (padding, unknown, classification)\n",
        "PAD_TOKEN = \"[PAD]\"\n",
        "UNK_TOKEN = \"[UNK]\"\n",
        "CLS_TOKEN = \"[CLS]\"\n",
        "MIN_FREQUENCY = 10\n",
        "VOCAB_SIZE = 10000\n",
        "\n",
        "# Tokenizer setup\n",
        "tokenizer = Tokenizer(WordLevel(unk_token=UNK_TOKEN))\n",
        "tokenizer.pre_tokenizer = Whitespace() # Split on whitespace\n",
        "\n",
        "# Train tokenizer on the training set\n",
        "trainer = WordLevelTrainer(special_tokens=[PAD_TOKEN, UNK_TOKEN, CLS_TOKEN], min_frequency=MIN_FREQUENCY, vocab_size=VOCAB_SIZE)\n",
        "tokenizer.train_from_iterator(dataset_train[\"text\"], trainer)"
      ]
    },
    {
      "cell_type": "markdown",
      "metadata": {
        "id": "LWxbkJQE9tGY"
      },
      "source": [
        "We test the tokenizer on a few examples to verify that it works as expected."
      ]
    },
    {
      "cell_type": "code",
      "execution_count": 6,
      "metadata": {
        "id": "QWf3lzMM9tGY",
        "outputId": "25ef41f3-43f8-4189-c1b3-6339b775a760",
        "colab": {
          "base_uri": "https://localhost:8080/"
        }
      },
      "outputs": [
        {
          "output_type": "stream",
          "name": "stdout",
          "text": [
            "Original text: i rented i am curiousyellow from my video store because of all the controversy that surrounded it when it was first released in 1967. i also heard that at first it was seized by u.s. customs if it ever tried to enter this country, therefore being a fan of films considered controversial i really had to see this for myself.the plot is centered around a young swedish drama student named lena who wants to learn everything she can about life. in particular she wants to focus her attentions to making some sort of documentary on what the average swede thought about certain political issues such as the vietnam war and race issues in the united states. in between asking politicians and ordinary denizens of stockholm about their opinions on politics, she has sex with her drama teacher, classmates, and married men.what kills me about i am curiousyellow is that 40 years ago, this was considered pornographic. really, the sex and nudity scenes are few and far between, even then its not shot like some cheaply made porno. while my countrymen mind find it shocking, in reality sex and nudity are a major staple in swedish cinema. even ingmar bergman, arguably their answer to good old boy john ford, had sex scenes in his films.i do commend the filmmakers for the fact that any sex shown in the film is shown for artistic purposes rather than just to shock people and make money to be shown in pornographic theaters in america. i am curiousyellow is a good film for anyone wanting to study the meat and potatoes no pun intended of swedish cinema. but really, this film doesnt have much of a plot.\n",
            "Tokenized text (tokens): ['i', 'rented', 'i', 'am', '[UNK]', 'from', 'my', 'video', 'store', 'because', 'of', 'all', 'the', 'controversy', 'that', 'surrounded', 'it', 'when', 'it', 'was', 'first', 'released', 'in', '1967', '.', 'i', 'also', 'heard', 'that', 'at', 'first', 'it', 'was', '[UNK]', 'by', 'u', '.', 's', '.', 'customs', 'if', 'it', 'ever', 'tried', 'to', 'enter', 'this', 'country', ',', 'therefore', 'being', 'a', 'fan', 'of', 'films', 'considered', 'controversial', 'i', 'really', 'had', 'to', 'see', 'this', 'for', 'myself', '.', 'the', 'plot', 'is', 'centered', 'around', 'a', 'young', 'swedish', 'drama', 'student', 'named', 'lena', 'who', 'wants', 'to', 'learn', 'everything', 'she', 'can', 'about', 'life', '.', 'in', 'particular', 'she', 'wants', 'to', 'focus', 'her', '[UNK]', 'to', 'making', 'some', 'sort', 'of', 'documentary', 'on', 'what', 'the', 'average', '[UNK]', 'thought', 'about', 'certain', 'political', 'issues', 'such', 'as', 'the', 'vietnam', 'war', 'and', 'race', 'issues', 'in', 'the', 'united', 'states', '.', 'in', 'between', 'asking', 'politicians', 'and', 'ordinary', '[UNK]', 'of', '[UNK]', 'about', 'their', 'opinions', 'on', 'politics', ',', 'she', 'has', 'sex', 'with', 'her', 'drama', 'teacher', ',', 'classmates', ',', 'and', 'married', 'men', '.', 'what', 'kills', 'me', 'about', 'i', 'am', '[UNK]', 'is', 'that', '40', 'years', 'ago', ',', 'this', 'was', 'considered', 'pornographic', '.', 'really', ',', 'the', 'sex', 'and', 'nudity', 'scenes', 'are', 'few', 'and', 'far', 'between', ',', 'even', 'then', 'its', 'not', 'shot', 'like', 'some', 'cheaply', 'made', 'porno', '.', 'while', 'my', '[UNK]', 'mind', 'find', 'it', 'shocking', ',', 'in', 'reality', 'sex', 'and', 'nudity', 'are', 'a', 'major', '[UNK]', 'in', 'swedish', 'cinema', '.', 'even', '[UNK]', 'bergman', ',', 'arguably', 'their', 'answer', 'to', 'good', 'old', 'boy', 'john', 'ford', ',', 'had', 'sex', 'scenes', 'in', 'his', 'films', '.', 'i', 'do', '[UNK]', 'the', 'filmmakers', 'for', 'the', 'fact', 'that', 'any', 'sex', 'shown', 'in', 'the', 'film', 'is', 'shown', 'for', 'artistic', 'purposes', 'rather', 'than', 'just', 'to', 'shock', 'people', 'and', 'make', 'money', 'to', 'be', 'shown', 'in', 'pornographic', 'theaters', 'in', 'america', '.', 'i', 'am', '[UNK]', 'is', 'a', 'good', 'film', 'for', 'anyone', 'wanting', 'to', 'study', 'the', 'meat', 'and', '[UNK]', 'no', 'pun', 'intended', 'of', 'swedish', 'cinema', '.', 'but', 'really', ',', 'this', 'film', 'doesnt', 'have', 'much', 'of', 'a', 'plot', '.']\n",
            "Tokenized text (IDs): [13, 1577, 13, 242, 1, 39, 60, 396, 1144, 89, 8, 33, 3, 7116, 15, 3369, 12, 55, 12, 16, 91, 628, 11, 7200, 4, 13, 83, 553, 15, 34, 91, 12, 16, 1, 35, 1242, 4, 826, 4, 9091, 46, 12, 127, 783, 9, 2501, 14, 705, 5, 1590, 114, 7, 338, 8, 101, 1168, 3060, 13, 67, 72, 9, 70, 14, 18, 536, 4, 3, 118, 10, 5920, 189, 7, 187, 3887, 473, 1485, 769, 4641, 38, 483, 9, 839, 283, 58, 73, 45, 123, 4, 11, 831, 58, 483, 9, 1140, 42, 1, 9, 252, 49, 436, 8, 678, 23, 51, 3, 870, 1, 205, 45, 784, 1011, 1314, 142, 17, 3, 2698, 332, 6, 1530, 1314, 11, 3, 2378, 1575, 4, 11, 199, 2188, 6981, 6, 1929, 1, 8, 1, 45, 69, 4644, 23, 2412, 5, 58, 47, 395, 19, 42, 473, 1750, 5, 7863, 5, 6, 1007, 351, 4, 51, 1074, 74, 45, 13, 242, 1, 10, 15, 1816, 153, 588, 5, 14, 16, 1168, 8190, 4, 67, 5, 3, 395, 6, 1010, 141, 26, 169, 6, 239, 199, 5, 59, 97, 32, 24, 322, 41, 49, 6632, 96, 4560, 4, 137, 60, 1, 346, 167, 12, 1586, 5, 11, 635, 395, 6, 1010, 26, 7, 662, 1, 11, 3887, 444, 4, 59, 1, 4940, 5, 4583, 69, 1486, 9, 53, 170, 450, 308, 2078, 5, 72, 395, 141, 11, 27, 101, 4, 13, 87, 1, 3, 888, 18, 3, 193, 15, 105, 395, 612, 11, 3, 22, 10, 612, 18, 1585, 5017, 245, 76, 44, 9, 1490, 86, 6, 102, 279, 9, 30, 612, 11, 8190, 2161, 11, 927, 4, 13, 242, 1, 10, 7, 53, 22, 18, 254, 1755, 9, 2066, 3, 3768, 6, 1, 61, 5219, 1409, 8, 3887, 444, 4, 21, 67, 5, 14, 22, 151, 28, 78, 8, 7, 118, 4]\n",
            "Decoded text: i rented i am [UNK] from my video store because of all the controversy that surrounded it when it was first released in 1967 . i also heard that at first it was [UNK] by u . s . customs if it ever tried to enter this country , therefore being a fan of films considered controversial i really had to see this for myself . the plot is centered around a young swedish drama student named lena who wants to learn everything she can about life . in particular she wants to focus her [UNK] to making some sort of documentary on what the average [UNK] thought about certain political issues such as the vietnam war and race issues in the united states . in between asking politicians and ordinary [UNK] of [UNK] about their opinions on politics , she has sex with her drama teacher , classmates , and married men . what kills me about i am [UNK] is that 40 years ago , this was considered pornographic . really , the sex and nudity scenes are few and far between , even then its not shot like some cheaply made porno . while my [UNK] mind find it shocking , in reality sex and nudity are a major [UNK] in swedish cinema . even [UNK] bergman , arguably their answer to good old boy john ford , had sex scenes in his films . i do [UNK] the filmmakers for the fact that any sex shown in the film is shown for artistic purposes rather than just to shock people and make money to be shown in pornographic theaters in america . i am [UNK] is a good film for anyone wanting to study the meat and [UNK] no pun intended of swedish cinema . but really , this film doesnt have much of a plot .\n",
            "\n",
            "Original text: i am curious yellow is a risible and pretentious steaming pile. it doesnt matter what ones political views are because this film can hardly be taken seriously on any level. as for the claim that frontal male nudity is an automatic nc17, that isnt true. ive seen rrated films with male nudity. granted, they only offer some fleeting views, but where are the rrated films with gaping vulvas and flapping labia? nowhere, because they dont exist. the same goes for those crappy cable shows schlongs swinging in the breeze but not a clitoris in sight. and those pretentious indie movies like the brown bunny, in which were treated to the site of vincent gallos throbbing johnson, but not a trace of pink visible on chloe sevigny. before crying or implying doublestandard in matters of nudity, the mentally obtuse should take into account one unavoidably obvious anatomical difference between men and women there are no genitals on display when actresses appears nude, and the same cannot be said for a man. in fact, you generally wont see female genitals in an american film in anything short of porn or explicit erotica. this alleged doublestandard is less a double standard than an admittedly depressing ability to come to terms culturally with the insides of womens bodies.\n",
            "Tokenized text (tokens): ['i', 'am', 'curious', 'yellow', 'is', 'a', '[UNK]', 'and', 'pretentious', 'steaming', 'pile', '.', 'it', 'doesnt', 'matter', 'what', 'ones', 'political', 'views', 'are', 'because', 'this', 'film', 'can', 'hardly', 'be', 'taken', 'seriously', 'on', 'any', 'level', '.', 'as', 'for', 'the', 'claim', 'that', 'frontal', 'male', 'nudity', 'is', 'an', 'automatic', '[UNK]', ',', 'that', 'isnt', 'true', '.', 'ive', 'seen', '[UNK]', 'films', 'with', 'male', 'nudity', '.', 'granted', ',', 'they', 'only', 'offer', 'some', 'fleeting', 'views', ',', 'but', 'where', 'are', 'the', '[UNK]', 'films', 'with', '[UNK]', '[UNK]', 'and', '[UNK]', '[UNK]', '?', 'nowhere', ',', 'because', 'they', 'dont', 'exist', '.', 'the', 'same', 'goes', 'for', 'those', 'crappy', 'cable', 'shows', '[UNK]', 'swinging', 'in', 'the', '[UNK]', 'but', 'not', 'a', '[UNK]', 'in', 'sight', '.', 'and', 'those', 'pretentious', 'indie', 'movies', 'like', 'the', 'brown', 'bunny', ',', 'in', 'which', 'were', 'treated', 'to', 'the', 'site', 'of', 'vincent', '[UNK]', '[UNK]', 'johnson', ',', 'but', 'not', 'a', 'trace', 'of', 'pink', 'visible', 'on', 'chloe', '[UNK]', '.', 'before', 'crying', 'or', '[UNK]', '[UNK]', 'in', 'matters', 'of', 'nudity', ',', 'the', 'mentally', '[UNK]', 'should', 'take', 'into', 'account', 'one', '[UNK]', 'obvious', '[UNK]', 'difference', 'between', 'men', 'and', 'women', 'there', 'are', 'no', '[UNK]', 'on', 'display', 'when', 'actresses', 'appears', 'nude', ',', 'and', 'the', 'same', 'cannot', 'be', 'said', 'for', 'a', 'man', '.', 'in', 'fact', ',', 'you', 'generally', 'wont', 'see', 'female', '[UNK]', 'in', 'an', 'american', 'film', 'in', 'anything', 'short', 'of', 'porn', 'or', 'explicit', '[UNK]', '.', 'this', 'alleged', '[UNK]', 'is', 'less', 'a', 'double', 'standard', 'than', 'an', 'admittedly', 'depressing', 'ability', 'to', 'come', 'to', 'terms', '[UNK]', 'with', 'the', '[UNK]', 'of', 'womens', 'bodies', '.']\n",
            "Tokenized text (IDs): [13, 242, 1979, 4427, 10, 7, 1, 6, 1916, 8673, 2459, 4, 12, 151, 557, 51, 519, 1011, 2686, 26, 89, 14, 22, 73, 964, 30, 617, 611, 23, 105, 669, 4, 17, 18, 3, 2254, 15, 7338, 939, 1010, 10, 36, 7982, 1, 5, 15, 213, 285, 4, 198, 112, 1, 101, 19, 939, 1010, 4, 2453, 5, 37, 66, 1433, 49, 8914, 2686, 5, 21, 120, 26, 3, 1, 101, 19, 1, 1, 6, 1, 1, 57, 1254, 5, 89, 37, 95, 1778, 4, 3, 172, 267, 18, 149, 2090, 1933, 268, 1, 7292, 11, 3, 1, 21, 24, 7, 1, 11, 1692, 4, 6, 149, 1916, 2814, 98, 41, 3, 2128, 5294, 5, 11, 65, 71, 1877, 9, 3, 2144, 8, 3192, 1, 1, 2825, 5, 21, 24, 7, 6801, 8, 4966, 4704, 23, 7999, 1, 4, 160, 2542, 43, 1, 1, 11, 2238, 8, 1010, 5, 3, 3031, 1, 145, 194, 85, 2655, 31, 1, 574, 1, 1437, 199, 351, 6, 367, 50, 26, 61, 1, 23, 2399, 55, 1587, 727, 2521, 5, 6, 3, 172, 561, 30, 298, 18, 7, 138, 4, 11, 193, 5, 25, 1201, 482, 70, 664, 1, 11, 36, 320, 22, 11, 231, 357, 8, 1548, 43, 3763, 1, 4, 14, 6619, 1, 10, 329, 7, 1695, 1284, 76, 36, 3372, 2208, 1229, 9, 214, 9, 1269, 1, 19, 3, 1, 8, 4618, 2298, 4]\n",
            "Decoded text: i am curious yellow is a [UNK] and pretentious steaming pile . it doesnt matter what ones political views are because this film can hardly be taken seriously on any level . as for the claim that frontal male nudity is an automatic [UNK] , that isnt true . ive seen [UNK] films with male nudity . granted , they only offer some fleeting views , but where are the [UNK] films with [UNK] [UNK] and [UNK] [UNK] ? nowhere , because they dont exist . the same goes for those crappy cable shows [UNK] swinging in the [UNK] but not a [UNK] in sight . and those pretentious indie movies like the brown bunny , in which were treated to the site of vincent [UNK] [UNK] johnson , but not a trace of pink visible on chloe [UNK] . before crying or [UNK] [UNK] in matters of nudity , the mentally [UNK] should take into account one [UNK] obvious [UNK] difference between men and women there are no [UNK] on display when actresses appears nude , and the same cannot be said for a man . in fact , you generally wont see female [UNK] in an american film in anything short of porn or explicit [UNK] . this alleged [UNK] is less a double standard than an admittedly depressing ability to come to terms [UNK] with the [UNK] of womens bodies .\n",
            "\n",
            "Original text: if only to avoid making this type of film in the future. this film is interesting as an experiment but tells no cogent story.one might feel virtuous for sitting thru it because it touches on so many important issues but it does so without any discernable motive. the viewer comes away with no new perspectives unless one comes up with one while ones mind wanders, as it will invariably do during this pointless film.one might better spend ones time staring out a window at a tree growing.\n",
            "Tokenized text (tokens): ['if', 'only', 'to', 'avoid', 'making', 'this', 'type', 'of', 'film', 'in', 'the', 'future', '.', 'this', 'film', 'is', 'interesting', 'as', 'an', 'experiment', 'but', 'tells', 'no', '[UNK]', 'story', '.', 'one', 'might', 'feel', '[UNK]', 'for', 'sitting', 'thru', 'it', 'because', 'it', 'touches', 'on', 'so', 'many', 'important', 'issues', 'but', 'it', 'does', 'so', 'without', 'any', '[UNK]', 'motive', '.', 'the', 'viewer', 'comes', 'away', 'with', 'no', 'new', 'perspectives', 'unless', 'one', 'comes', 'up', 'with', 'one', 'while', 'ones', 'mind', 'wanders', ',', 'as', 'it', 'will', '[UNK]', 'do', 'during', 'this', 'pointless', 'film', '.', 'one', 'might', 'better', 'spend', 'ones', 'time', 'staring', 'out', 'a', 'window', 'at', 'a', 'tree', 'growing', '.']\n",
            "Tokenized text (IDs): [46, 66, 9, 780, 252, 14, 600, 8, 22, 11, 3, 693, 4, 14, 22, 10, 219, 17, 36, 2813, 21, 701, 61, 1, 68, 4, 31, 237, 240, 1, 18, 1240, 4491, 12, 89, 12, 2407, 23, 40, 111, 681, 1314, 21, 12, 126, 40, 207, 105, 1, 6181, 4, 3, 517, 264, 244, 19, 61, 162, 8304, 893, 31, 264, 62, 19, 31, 137, 519, 346, 5978, 5, 17, 12, 82, 1, 87, 311, 14, 1135, 22, 4, 31, 237, 128, 1115, 519, 63, 4570, 48, 7, 2016, 34, 7, 3010, 1780, 4]\n",
            "Decoded text: if only to avoid making this type of film in the future . this film is interesting as an experiment but tells no [UNK] story . one might feel [UNK] for sitting thru it because it touches on so many important issues but it does so without any [UNK] motive . the viewer comes away with no new perspectives unless one comes up with one while ones mind wanders , as it will [UNK] do during this pointless film . one might better spend ones time staring out a window at a tree growing .\n",
            "\n",
            "Original text: this film was probably inspired by godards masculin, fminin and i urge you to see that film instead.the film has two strong elements and those are, 1 the realistic acting 2 the impressive, undeservedly good, photo. apart from that, what strikes me most is the endless stream of silliness. lena nyman has to be most annoying actress in the world. she acts so stupid and with all the nudity in this film,...its unattractive. comparing to godards film, intellectuality has been replaced with stupidity. without going too far on this subject, i would say that follows from the difference in ideals between the french and the swedish society.a movie of its time, and place. 210.\n",
            "Tokenized text (tokens): ['this', 'film', 'was', 'probably', 'inspired', 'by', '[UNK]', '[UNK]', ',', '[UNK]', 'and', 'i', 'urge', 'you', 'to', 'see', 'that', 'film', 'instead', '.', 'the', 'film', 'has', 'two', 'strong', 'elements', 'and', 'those', 'are', ',', '1', 'the', 'realistic', 'acting', '2', 'the', 'impressive', ',', '[UNK]', 'good', ',', 'photo', '.', 'apart', 'from', 'that', ',', 'what', 'strikes', 'me', 'most', 'is', 'the', 'endless', 'stream', 'of', 'silliness', '.', 'lena', '[UNK]', 'has', 'to', 'be', 'most', 'annoying', 'actress', 'in', 'the', 'world', '.', 'she', 'acts', 'so', 'stupid', 'and', 'with', 'all', 'the', 'nudity', 'in', 'this', 'film', ',...', 'its', 'unattractive', '.', 'comparing', 'to', '[UNK]', 'film', ',', '[UNK]', 'has', 'been', 'replaced', 'with', 'stupidity', '.', 'without', 'going', 'too', 'far', 'on', 'this', 'subject', ',', 'i', 'would', 'say', 'that', 'follows', 'from', 'the', 'difference', 'in', 'ideals', 'between', 'the', 'french', 'and', 'the', 'swedish', 'society', '.', 'a', 'movie', 'of', 'its', 'time', ',', 'and', 'place', '.', '210', '.']\n",
            "Tokenized text (IDs): [14, 22, 16, 241, 1622, 35, 1, 1, 5, 1, 6, 13, 4186, 25, 9, 70, 15, 22, 300, 4, 3, 22, 47, 110, 567, 776, 6, 149, 26, 5, 421, 3, 824, 117, 277, 3, 1141, 5, 1, 53, 5, 5268, 4, 957, 39, 15, 5, 51, 3331, 74, 94, 10, 3, 2140, 7183, 8, 5278, 4, 4641, 1, 47, 9, 30, 94, 613, 520, 11, 3, 188, 4, 58, 1401, 40, 373, 6, 19, 33, 3, 1010, 11, 14, 22, 8516, 32, 6285, 4, 4367, 9, 1, 22, 5, 1, 47, 80, 2924, 19, 2981, 4, 207, 171, 104, 239, 23, 14, 868, 5, 13, 64, 136, 15, 1147, 39, 3, 1437, 11, 7902, 199, 3, 790, 6, 3, 3887, 916, 4, 7, 20, 8, 32, 63, 5, 6, 272, 4, 3695, 4]\n",
            "Decoded text: this film was probably inspired by [UNK] [UNK] , [UNK] and i urge you to see that film instead . the film has two strong elements and those are , 1 the realistic acting 2 the impressive , [UNK] good , photo . apart from that , what strikes me most is the endless stream of silliness . lena [UNK] has to be most annoying actress in the world . she acts so stupid and with all the nudity in this film ,... its unattractive . comparing to [UNK] film , [UNK] has been replaced with stupidity . without going too far on this subject , i would say that follows from the difference in ideals between the french and the swedish society . a movie of its time , and place . 210 .\n",
            "\n",
            "Original text: oh, brother...after hearing about this ridiculous film for umpteen years all i can think of is that old peggy lee song..is that all there is?? ...i was just an early teen when this smoked fish hit the u.s. i was too young to get in the theater although i did manage to sneak into goodbye columbus. then a screening at a local film museum beckoned  finally i could see this film, except now i was as old as my parents were when they schlepped to see it!!the only reason this film was not condemned to the anonymous sands of time was because of the obscenity case sparked by its u.s. release. millions of people flocked to this stinker, thinking they were going to see a sex film...instead, they got lots of closeups of gnarly, repulsive swedes, onstreet interviews in bland shopping malls, asinie political pretension...and feeble whocares simulated sex scenes with saggy, pale actors.cultural icon, holy grail, historic artifact..whatever this thing was, shred it, burn it, then stuff the ashes in a lead box!elite esthetes still scrape to find value in its boring pseudo revolutionary political spewings..but if it werent for the censorship scandal, it would have been ignored, then forgotten.instead, the i am blank, blank rhythymed title was repeated endlessly for years as a titilation for porno films i am curious, lavender  for gay films, i am curious, black  for blaxploitation films, etc.. and every ten years or so the thing rises from the dead, to be viewed by a new generation of suckers who want to see that naughty sex film that revolutionized the film industry...yeesh, avoid like the plague..or if you must see it  rent the video and fast forward to the dirty parts, just to get it over with.\n",
            "Tokenized text (tokens): ['oh', ',', 'brother', '...', 'after', 'hearing', 'about', 'this', 'ridiculous', 'film', 'for', '[UNK]', 'years', 'all', 'i', 'can', 'think', 'of', 'is', 'that', 'old', 'peggy', 'lee', 'song', '..', 'is', 'that', 'all', 'there', 'is', '??', '...', 'i', 'was', 'just', 'an', 'early', 'teen', 'when', 'this', '[UNK]', 'fish', 'hit', 'the', 'u', '.', 's', '.', 'i', 'was', 'too', 'young', 'to', 'get', 'in', 'the', 'theater', 'although', 'i', 'did', 'manage', 'to', 'sneak', 'into', 'goodbye', '[UNK]', '.', 'then', 'a', 'screening', 'at', 'a', 'local', 'film', 'museum', '[UNK]', 'finally', 'i', 'could', 'see', 'this', 'film', ',', 'except', 'now', 'i', 'was', 'as', 'old', 'as', 'my', 'parents', 'were', 'when', 'they', '[UNK]', 'to', 'see', 'it', '!!', 'the', 'only', 'reason', 'this', 'film', 'was', 'not', 'condemned', 'to', 'the', 'anonymous', '[UNK]', 'of', 'time', 'was', 'because', 'of', 'the', '[UNK]', 'case', '[UNK]', 'by', 'its', 'u', '.', 's', '.', 'release', '.', 'millions', 'of', 'people', '[UNK]', 'to', 'this', 'stinker', ',', 'thinking', 'they', 'were', 'going', 'to', 'see', 'a', 'sex', 'film', '...', 'instead', ',', 'they', 'got', 'lots', 'of', 'closeups', 'of', '[UNK]', ',', 'repulsive', '[UNK]', ',', '[UNK]', 'interviews', 'in', 'bland', 'shopping', '[UNK]', ',', '[UNK]', 'political', '[UNK]', '...', 'and', 'feeble', '[UNK]', '[UNK]', 'sex', 'scenes', 'with', '[UNK]', ',', 'pale', 'actors', '.', 'cultural', 'icon', ',', 'holy', 'grail', ',', 'historic', '[UNK]', '..', 'whatever', 'this', 'thing', 'was', ',', 'shred', 'it', ',', 'burn', 'it', ',', 'then', 'stuff', 'the', '[UNK]', 'in', 'a', 'lead', 'box', '!', 'elite', '[UNK]', 'still', '[UNK]', 'to', 'find', 'value', 'in', 'its', 'boring', '[UNK]', 'revolutionary', 'political', '[UNK]', '..', 'but', 'if', 'it', 'werent', 'for', 'the', 'censorship', 'scandal', ',', 'it', 'would', 'have', 'been', 'ignored', ',', 'then', 'forgotten', '.', 'instead', ',', 'the', 'i', 'am', 'blank', ',', 'blank', '[UNK]', 'title', 'was', 'repeated', 'endlessly', 'for', 'years', 'as', 'a', '[UNK]', 'for', 'porno', 'films', 'i', 'am', 'curious', ',', '[UNK]', 'for', 'gay', 'films', ',', 'i', 'am', 'curious', ',', 'black', 'for', 'blaxploitation', 'films', ',', 'etc', '..', 'and', 'every', 'ten', 'years', 'or', 'so', 'the', 'thing', 'rises', 'from', 'the', 'dead', ',', 'to', 'be', 'viewed', 'by', 'a', 'new', 'generation', 'of', '[UNK]', 'who', 'want', 'to', 'see', 'that', 'naughty', 'sex', 'film', 'that', '[UNK]', 'the', 'film', 'industry', '...', '[UNK]', ',', 'avoid', 'like', 'the', 'plague', '..', 'or', 'if', 'you', 'must', 'see', 'it', 'rent', 'the', 'video', 'and', 'fast', 'forward', 'to', 'the', 'dirty', 'parts', ',', 'just', 'to', 'get', 'it', 'over', 'with', '.']\n",
            "Tokenized text (IDs): [452, 5, 603, 79, 106, 2179, 45, 14, 640, 22, 18, 1, 153, 33, 13, 73, 108, 8, 10, 15, 170, 8066, 847, 625, 380, 10, 15, 33, 50, 10, 1830, 79, 13, 16, 44, 36, 403, 1855, 55, 14, 1, 3182, 644, 3, 1242, 4, 826, 4, 13, 16, 104, 187, 9, 81, 11, 3, 741, 258, 13, 122, 1887, 9, 4973, 85, 5941, 1, 4, 97, 7, 2913, 34, 7, 702, 22, 4482, 1, 408, 13, 103, 70, 14, 22, 5, 547, 154, 13, 16, 17, 170, 17, 60, 786, 71, 55, 37, 1, 9, 70, 12, 569, 3, 66, 280, 14, 22, 16, 24, 8550, 9, 3, 9050, 1, 8, 63, 16, 89, 8, 3, 1, 415, 1, 35, 32, 1242, 4, 826, 4, 782, 4, 3118, 8, 86, 1, 9, 14, 4181, 5, 532, 37, 71, 171, 9, 70, 7, 395, 22, 79, 300, 5, 37, 190, 752, 8, 3542, 8, 1, 5, 6193, 1, 5, 1, 2960, 11, 1891, 5833, 1, 5, 1, 1011, 1, 79, 6, 6937, 1, 1, 395, 141, 19, 1, 5, 6337, 157, 4, 2812, 4905, 5, 3950, 9909, 5, 5811, 1, 380, 850, 14, 156, 16, 5, 7699, 12, 5, 3563, 12, 5, 97, 531, 3, 1, 11, 7, 485, 1021, 52, 5863, 1, 130, 1, 9, 167, 1112, 11, 32, 352, 1, 4254, 1011, 1, 380, 21, 46, 12, 1145, 18, 3, 8372, 9006, 5, 12, 64, 28, 80, 3655, 5, 97, 1580, 4, 300, 5, 3, 13, 242, 3778, 5, 3778, 1, 427, 16, 2422, 6240, 18, 153, 17, 7, 1, 18, 4560, 101, 13, 242, 1979, 5, 1, 18, 1006, 101, 5, 13, 242, 1979, 5, 331, 18, 9849, 101, 5, 515, 380, 6, 174, 760, 153, 43, 40, 3, 156, 5166, 39, 3, 362, 5, 9, 30, 2408, 35, 7, 162, 2251, 8, 1, 38, 183, 9, 70, 15, 5423, 395, 22, 15, 1, 3, 22, 1569, 79, 1, 5, 780, 41, 3, 3223, 380, 43, 46, 25, 226, 70, 12, 879, 3, 396, 6, 833, 982, 9, 3, 1630, 521, 5, 44, 9, 81, 12, 131, 19, 4]\n",
            "Decoded text: oh , brother ... after hearing about this ridiculous film for [UNK] years all i can think of is that old peggy lee song .. is that all there is ?? ... i was just an early teen when this [UNK] fish hit the u . s . i was too young to get in the theater although i did manage to sneak into goodbye [UNK] . then a screening at a local film museum [UNK] finally i could see this film , except now i was as old as my parents were when they [UNK] to see it !! the only reason this film was not condemned to the anonymous [UNK] of time was because of the [UNK] case [UNK] by its u . s . release . millions of people [UNK] to this stinker , thinking they were going to see a sex film ... instead , they got lots of closeups of [UNK] , repulsive [UNK] , [UNK] interviews in bland shopping [UNK] , [UNK] political [UNK] ... and feeble [UNK] [UNK] sex scenes with [UNK] , pale actors . cultural icon , holy grail , historic [UNK] .. whatever this thing was , shred it , burn it , then stuff the [UNK] in a lead box ! elite [UNK] still [UNK] to find value in its boring [UNK] revolutionary political [UNK] .. but if it werent for the censorship scandal , it would have been ignored , then forgotten . instead , the i am blank , blank [UNK] title was repeated endlessly for years as a [UNK] for porno films i am curious , [UNK] for gay films , i am curious , black for blaxploitation films , etc .. and every ten years or so the thing rises from the dead , to be viewed by a new generation of [UNK] who want to see that naughty sex film that [UNK] the film industry ... [UNK] , avoid like the plague .. or if you must see it rent the video and fast forward to the dirty parts , just to get it over with .\n",
            "\n"
          ]
        }
      ],
      "source": [
        "for idx in range(5):\n",
        "    example = dataset_train[idx]\n",
        "    original_text = example[\"text\"]\n",
        "    tokenized_text = tokenizer.encode(example[\"text\"])\n",
        "    decoded_text = tokenizer.decode(tokenized_text.ids, skip_special_tokens=False)\n",
        "\n",
        "    print(f\"Original text: {original_text}\")\n",
        "    print(f\"Tokenized text (tokens): {tokenized_text.tokens}\")\n",
        "    print(f\"Tokenized text (IDs): {tokenized_text.ids}\")\n",
        "    print(f\"Decoded text: {decoded_text}\")\n",
        "    print()"
      ]
    },
    {
      "cell_type": "markdown",
      "metadata": {
        "id": "CLFW9yAy9tGY"
      },
      "source": [
        "We plot the distribution of the sequence lengths in the training set. Later, we can use this to determine the maximum sequence length to use."
      ]
    },
    {
      "cell_type": "code",
      "execution_count": 7,
      "metadata": {
        "id": "RVSnL6KZ9tGZ",
        "outputId": "b103b409-ac7e-444e-bea9-d05a0c99ce95",
        "colab": {
          "base_uri": "https://localhost:8080/",
          "height": 361
        }
      },
      "outputs": [
        {
          "output_type": "display_data",
          "data": {
            "text/plain": [
              "<Figure size 1000x400 with 1 Axes>"
            ],
            "image/png": "[encoded data removed]"
          },
          "metadata": {}
        }
      ],
      "source": [
        "# Histogram of token lengths\n",
        "token_lengths = [len(tokenizer.encode(text).ids) for text in dataset_train[\"text\"]]\n",
        "median_length = np.median(token_lengths)\n",
        "\n",
        "fig, ax = plt.subplots(figsize=(10, 4))\n",
        "ax.hist(token_lengths, bins=50, color=\"black\")\n",
        "ax.set_xticks(np.arange(0, np.max(token_lengths) + 1, 100))\n",
        "ax.tick_params(axis=\"x\", labelrotation=45)\n",
        "ax.set_xlabel(\"Number of tokens in sequence\")\n",
        "ax.set_ylabel(\"Frequency\")\n",
        "ax.axvline(median_length, color=\"red\", linestyle=\"--\", label=f\"Median length: {median_length}\")\n",
        "ax.legend()\n",
        "fig.suptitle(\"Histogram of token lengths\")\n",
        "fig.tight_layout()\n",
        "plt.show()"
      ]
    },
    {
      "cell_type": "markdown",
      "metadata": {
        "id": "DvVQHnSa9tGZ"
      },
      "source": [
        "### 1.4 Dataset and Data Loaders\n",
        "\n",
        "To deal with sequences of different lengths, we implement a simple `IMDBDataset` class that pads the sequences to the same length using the `[PAD]` token, or truncates them if they exceed the maximum sequence length. We also prepend the `[CLS]` token to the input sequences."
      ]
    },
    {
      "cell_type": "code",
      "execution_count": 8,
      "metadata": {
        "id": "pVd-p4BL9tGZ"
      },
      "outputs": [],
      "source": [
        "class IMDBDataset(Dataset):\n",
        "    def __init__(self, texts, labels, tokenizer, max_length, pad_idx, cls_idx):\n",
        "        self.texts = texts\n",
        "        self.labels = labels\n",
        "        self.tokenizer = tokenizer\n",
        "        self.max_length = max_length\n",
        "        self.pad_idx = pad_idx\n",
        "        self.cls_idx = cls_idx\n",
        "\n",
        "    def __len__(self):\n",
        "        return len(self.texts)\n",
        "\n",
        "    def __getitem__(self, idx):\n",
        "        text = self.texts[idx]\n",
        "        label = self.labels[idx]\n",
        "\n",
        "        # Tokenize the text and prepend the [CLS] token\n",
        "        tokenized_text = self.tokenizer.encode(text)\n",
        "        token_ids = tokenized_text.ids\n",
        "        token_ids = [self.cls_idx] + token_ids # add start\n",
        "\n",
        "\n",
        "        # Pad or truncate the sequence to the maximum length\n",
        "        if len(token_ids) < self.max_length:\n",
        "            token_ids += [self.pad_idx] * (self.max_length - len(token_ids))\n",
        "        else:\n",
        "            token_ids = token_ids[:self.max_length]\n",
        "\n",
        "        return torch.tensor(token_ids), torch.tensor(label)"
      ]
    },
    {
      "cell_type": "markdown",
      "metadata": {
        "id": "uV86l2kB9tGZ"
      },
      "source": [
        "We create some constants:\n",
        "\n",
        "- `MAX_LENGTH`: the maximum sequence length\n",
        "- `PAD_ID`: the ID of the `[PAD]` token\n",
        "- `CLS_ID`: the ID of the `[CLS]` token\n",
        "- `BATCH_SIZE`: the batch size\n",
        "- `NUM_WORKERS`: the number of workers for data loading (set this to 0 if you are encountering issues with the DataLoader)\n",
        "\n",
        "We also create the training and testing datasets and data loaders."
      ]
    },
    {
      "cell_type": "code",
      "execution_count": 9,
      "metadata": {
        "id": "6LWPVzgz9tGZ"
      },
      "outputs": [],
      "source": [
        "# Constants\n",
        "MAX_LENGTH = 256\n",
        "PAD_ID = tokenizer.token_to_id(PAD_TOKEN)\n",
        "CLS_ID = tokenizer.token_to_id(CLS_TOKEN)\n",
        "BATCH_SIZE = 64\n",
        "NUM_WORKERS = 2\n",
        "\n",
        "# Dataset instances\n",
        "train_dataset = IMDBDataset(dataset_train[\"text\"], dataset_train[\"label\"], tokenizer, MAX_LENGTH, PAD_ID, CLS_ID)\n",
        "val_dataset = IMDBDataset(dataset_val[\"text\"], dataset_val[\"label\"], tokenizer, MAX_LENGTH, PAD_ID, CLS_ID)\n",
        "test_dataset = IMDBDataset(dataset_test[\"text\"], dataset_test[\"label\"], tokenizer, MAX_LENGTH, PAD_ID, CLS_ID)\n",
        "\n",
        "# Data loaders\n",
        "train_loader = DataLoader(train_dataset, batch_size=BATCH_SIZE, shuffle=True, num_workers=NUM_WORKERS, generator=torch.Generator().manual_seed(SEED))\n",
        "val_loader = DataLoader(val_dataset, batch_size=BATCH_SIZE, shuffle=False, num_workers=NUM_WORKERS)\n",
        "test_loader = DataLoader(test_dataset, batch_size=BATCH_SIZE, shuffle=False, num_workers=NUM_WORKERS)"
      ]
    },
    {
      "cell_type": "markdown",
      "metadata": {
        "id": "7rvMIYvJ9tGZ"
      },
      "source": [
        "## 2. Model"
      ]
    },
    {
      "cell_type": "markdown",
      "metadata": {
        "id": "YOBNL6_P9tGZ"
      },
      "source": [
        "### 2.1 Training Loop\n",
        "\n",
        "We define a simple train function that takes `model` and trains it for `num_epochs` on `train_loader`. We give the `criterion` (loss function) and `optimizer` as arguments to the function. The train function also needs to know `pad_id`, the ID of the `[PAD]` token so we can generate the attention mask making sure the model does not attend to the padding tokens. After each epoch, we evaluate the model on `val_loader`."
      ]
    },
    {
      "cell_type": "code",
      "execution_count": 10,
      "metadata": {
        "id": "rhfALYpV9tGZ"
      },
      "outputs": [],
      "source": [
        "def create_mask(sequences, pad_id):\n",
        "    \"\"\"\n",
        "    Input shape of token sequences: (batch_size, seq_length)\n",
        "    Output shape: (batch_size, seq_length) boolean mask with True where the padding tokens are located\n",
        "    \"\"\"\n",
        "    # den funker men ser helt dust ut\n",
        "    mask = (sequences == pad_id)\n",
        "\n",
        "    return mask\n",
        "\n",
        "\n",
        "\n",
        "def train_model(model, criterion, optimizer, train_loader, val_loader, num_epochs, pad_id):\n",
        "    #Extrem speedup\n",
        "    device = torch.device(\"cuda\" if torch.cuda.is_available() else \"cpu\")\n",
        "    model.to(device)\n",
        "    model.train()\n",
        "    for epoch in range(num_epochs):\n",
        "        model.train()\n",
        "        train_losses = []\n",
        "        correct, total = 0, 0\n",
        "        for sequences, labels in (pbar := tqdm(train_loader)):\n",
        "\n",
        "            sequences = sequences.to(device)\n",
        "            labels = labels.float().to(device)\n",
        "\n",
        "            optimizer.zero_grad()\n",
        "            attention_mask = create_mask(sequences, pad_id)\n",
        "            outputs = model(sequences, mask=attention_mask)\n",
        "\n",
        "            loss = criterion(outputs, labels)\n",
        "            loss.backward()\n",
        "            torch.nn.utils.clip_grad_norm_(model.parameters(), max_norm=10.0)  # Clip gradients for stability\n",
        "            optimizer.step()\n",
        "            train_losses.append(loss.item())\n",
        "            correct += ((outputs > 0.5) == labels).sum().item()\n",
        "            total += labels.size(0)\n",
        "            pbar.set_description(f\"Epoch {epoch+1}, Train Loss: {np.mean(train_losses):.4f}, Train Acc.: {correct / total:.4f}\")\n",
        "\n",
        "        # Validation\n",
        "        #HUSK EVAL\n",
        "        model.eval()\n",
        "        val_losses = []\n",
        "        correct, total = 0, 0\n",
        "        with torch.no_grad():\n",
        "            for sequences, labels in tqdm(val_loader):\n",
        "                sequences = sequences.to(device)\n",
        "                labels = labels.float().to(device)\n",
        "                attention_mask = create_mask(sequences, pad_id)\n",
        "                outputs = model(sequences, mask=attention_mask)\n",
        "                loss = criterion(outputs, labels)\n",
        "                val_losses.append(loss.item())\n",
        "                correct += ((outputs > 0.5) == labels).sum().item()\n",
        "                total += labels.size(0)\n",
        "        print(f\"Epoch {epoch+1}, Val Loss: {np.mean(val_losses):.4f}, Val Acc.: {correct / total:.4f}\")\n"
      ]
    },
    {
      "cell_type": "markdown",
      "metadata": {
        "id": "tLGOAcnQ9tGa"
      },
      "source": [
        "### 2.2 Multi-Head Attention\n",
        "\n",
        "We implement the multi-head attention mechanism. The multi-head attention mechanism consists of `num_heads` independent attention mechanisms. We concatenate the outputs of the different heads and project them back to the model's dimension. We use the scaled dot-product attention mechanism."
      ]
    },
    {
      "cell_type": "code",
      "execution_count": 11,
      "metadata": {
        "id": "NFx2wneG9tGa"
      },
      "outputs": [],
      "source": [
        "class MultiheadAttention(nn.Module):\n",
        "    def __init__(self, dim, num_heads):\n",
        "        \"\"\"\n",
        "        Multihead attention module.\n",
        "        Args:\n",
        "            dim: Dimension of the input vectors\n",
        "            num_heads: Number of attention heads\n",
        "            dropout: Dropout rate for attention scores (default: 0.1)\n",
        "        \"\"\"\n",
        "        super().__init__()\n",
        "        self.dim = dim\n",
        "        self.num_heads = num_heads\n",
        "\n",
        "        assert dim % num_heads == 0, f\"Dimension {dim} must be divisible by num_heads {num_heads}\"\n",
        "\n",
        "        self.head_dim = dim // num_heads\n",
        "\n",
        "        # TODO: Linear transformations for query, key, and value\n",
        "        #straight up bare linear fc\n",
        "        self.query = nn.Linear(self.dim, self.dim)\n",
        "        self.key = nn.Linear(self.dim,self.dim)\n",
        "        self.value = nn.Linear(self.dim,self.dim)\n",
        "\n",
        "        # TODO: Output linear transformation\n",
        "        self.out_proj = nn.Linear(self.dim,self.dim)\n",
        "\n",
        "    #tror initen sitter.\n",
        "    def forward(self, query, key, value, key_padding_mask):\n",
        "\n",
        "        Q = self.query(query)\n",
        "        K = self.key(key)\n",
        "        V = self.value(value)\n",
        "\n",
        "        batch_size, seq_length, _ = query.shape\n",
        "        #Get correct shape\n",
        "        def reshape_heads(x):\n",
        "            return x.view(batch_size, seq_length, self.num_heads, self.head_dim).transpose(1, 2)\n",
        "        #Reshape q,k,v\n",
        "        Q = reshape_heads(Q)\n",
        "        K = reshape_heads(K)\n",
        "        V = reshape_heads(V)\n",
        "\n",
        "        attn_scores = torch.matmul(Q, K.transpose(-2, -1)) / (self.head_dim ** 0.5)\n",
        "        #Apply mask\n",
        "        if key_padding_mask is not None:\n",
        "            attn_scores = attn_scores.masked_fill(key_padding_mask[:, None, None, :] == 1, float('-inf'))\n",
        "\n",
        "        attn_probs = F.softmax(attn_scores, dim=-1)  # Normalize scores\n",
        "        attn_output = torch.matmul(attn_probs, V)  # Apply attention to values\n",
        "\n",
        "        attn_output = attn_output.transpose(1, 2).contiguous().view(batch_size, seq_length, self.dim)\n",
        "        output = self.out_proj(attn_output)  # Final linear layer\n",
        "\n",
        "        return output\n"
      ]
    },
    {
      "cell_type": "markdown",
      "metadata": {
        "id": "OFcDYg3v9tGa"
      },
      "source": [
        "### 2.3 Encoder Block\n",
        "\n",
        "We implement the encoder block, which consists of our multi-head attention layer followed by a feedforward neural network. We also add residual connections and layer normalizations as specified in the project description."
      ]
    },
    {
      "cell_type": "code",
      "execution_count": 12,
      "metadata": {
        "id": "ha9fF3ze9tGa"
      },
      "outputs": [],
      "source": [
        "def mlp(dim, dropout=0.1):\n",
        "    #Follows the instructions from project\n",
        "    return nn.Sequential(\n",
        "        nn.Linear(dim, 4*dim),\n",
        "        nn.GELU(),\n",
        "        nn.Dropout(dropout),\n",
        "        nn.Linear(4*dim, dim),\n",
        "        nn.Dropout(dropout)\n",
        "    )\n",
        "class EncoderBlock(nn.Module):\n",
        "    def __init__(self, dim, num_heads, dropout=0.1):\n",
        "        super().__init__()\n",
        "        self.dim = dim\n",
        "        self.num_heads = num_heads\n",
        "        self.multihead= MultiheadAttention(dim, num_heads)\n",
        "        self.mlp=  mlp(dim)\n",
        "        self.layer_norm1 = nn.LayerNorm(dim)\n",
        "        self.dropout1 =nn.Dropout(dropout)\n",
        "        self.layer_norm2 = nn.LayerNorm(dim)\n",
        "        self.dropout2 =nn.Dropout(dropout)\n",
        "\n",
        "    def forward(self, x, mask=None):\n",
        "        skip= x\n",
        "        x= self.layer_norm1(x)\n",
        "        x= self.multihead.forward(x,x,x,mask)\n",
        "        x = self.dropout1(x)\n",
        "        x= x+skip #Add skip\n",
        "        skip= x\n",
        "        x= self.layer_norm2(x)\n",
        "        x= self.mlp.forward(x)\n",
        "        x = self.dropout2(x)\n",
        "        x= x+skip #Add skip again\n",
        "        return x\n",
        "\n",
        "\n"
      ]
    },
    {
      "cell_type": "markdown",
      "metadata": {
        "id": "ZrPUTzwf9tGa"
      },
      "source": [
        "### 2.4 Model Specification\n",
        "\n",
        "We specify our classifier model, which consists of an embedding layer, followed by `num_layers` encoder blocks. We use a linear layer to project the output of the last encoder block and apply sigmoid activation to get the final output.\n",
        "\n",
        "We also define the positional encoding, which is added to the input embeddings to give the model information about the position of the tokens in the sequence."
      ]
    },
    {
      "cell_type": "code",
      "execution_count": 13,
      "metadata": {
        "id": "GfQ_wanc9tGb"
      },
      "outputs": [],
      "source": [
        "class PositionalEncoding(nn.Module):\n",
        "    \"\"\"\n",
        "    Positional encoding module: adds positional information to the input embeddings.\n",
        "    \"\"\"\n",
        "    def __init__(self, embed_size, max_len):\n",
        "        super().__init__()\n",
        "        self.pe = torch.zeros(max_len, embed_size)\n",
        "    def forward(self, x):\n",
        "        self.pe = self.pe.to(x.device)\n",
        "        x = x + self.pe[:x.size(1)]\n",
        "        return x\n",
        "\n",
        "class SentimentTransformer(nn.Module):\n",
        "    def __init__(self, vocab_size, max_len, embedding_dim, num_heads, num_layers, pad_idx, dropout=0.1):\n",
        "        super().__init__()\n",
        "        self.embedding = nn.Embedding(vocab_size, embedding_dim, padding_idx=pad_idx)\n",
        "        self.pos_encoder = PositionalEncoding(embedding_dim, max_len)\n",
        "\n",
        "        self.encoder = nn.ModuleList([EncoderBlock(embedding_dim, num_heads, dropout) for _ in range(num_layers)])\n",
        "\n",
        "        self.fc = nn.Linear(embedding_dim, 1)  # Output layer\n",
        "        self.sigmoid = nn.Sigmoid()\n",
        "\n",
        "    def forward(self, x, mask=None):\n",
        "        x = self.embedding(x)  # Shape: (batch_size, seq_len, embedding_dim)\n",
        "        x = self.pos_encoder(x)  # Add positional encodings\n",
        "\n",
        "        for encoder in self.encoder:\n",
        "            x = encoder(x, mask=mask)\n",
        "\n",
        "        x = x[:, 0, :]  # Take the first token's embedding (CLS token equivalent)\n",
        "\n",
        "        return self.sigmoid(self.fc(x)).squeeze()\n"
      ]
    },
    {
      "cell_type": "markdown",
      "metadata": {
        "id": "URufJutq9tGb"
      },
      "source": [
        "### 2.5 Training the Model\n",
        "\n",
        "We can now train the model. It is recommended that you use the parameters provided in the cell below as they should work pretty good without requiring too much computational power.\n",
        "\n",
        "Train the model for (at least) 3 epochs. Each epoch should take around 7 to 12 minutes on a modern CPU. If you are training on a laptop, make sure it is plugged in. Moreover, closing all other applications can also help. Take a well-deserved break while the model trains.\n",
        "\n",
        "If you struggle with extremely long training times, you can do one or more of the following to speed up training:\n",
        "\n",
        "- Increase `MIN_FREQUENCY` and re-train the tokenizer to reduce the vocabulary size.\n",
        "- Use a subset of the training data.\n",
        "- Reduce the number of epochs.\n",
        "- Reduce the maximum sequence length.\n",
        "- Experiment with `NUM_WORKERS` in the data loaders (optimal value is system-dependent).\n",
        "- If you have a GPU, modify the training function above to use it.\n",
        "\n",
        "Expect to observe a training accuracy above `0.60` halfway through the first epoch."
      ]
    },
    {
      "cell_type": "code",
      "execution_count": 15,
      "metadata": {
        "id": "GGsh34Nm9tGb",
        "outputId": "8c081b60-e64a-4f79-b397-287322319118",
        "colab": {
          "base_uri": "https://localhost:8080/"
        }
      },
      "outputs": [
        {
          "output_type": "stream",
          "name": "stdout",
          "text": [
            "Number of parameters: 1295617\n"
          ]
        },
        {
          "output_type": "stream",
          "name": "stderr",
          "text": [
            "Epoch 1, Train Loss: 0.4699, Train Acc.: 0.7670: 100%|██████████| 391/391 [00:23<00:00, 16.69it/s]\n",
            "100%|██████████| 79/79 [00:02<00:00, 33.35it/s]\n"
          ]
        },
        {
          "output_type": "stream",
          "name": "stdout",
          "text": [
            "Epoch 1, Val Loss: 0.3788, Val Acc.: 0.8332\n"
          ]
        },
        {
          "output_type": "stream",
          "name": "stderr",
          "text": [
            "Epoch 2, Train Loss: 0.3396, Train Acc.: 0.8534: 100%|██████████| 391/391 [00:21<00:00, 18.56it/s]\n",
            "100%|██████████| 79/79 [00:02<00:00, 33.24it/s]\n"
          ]
        },
        {
          "output_type": "stream",
          "name": "stdout",
          "text": [
            "Epoch 2, Val Loss: 0.3472, Val Acc.: 0.8508\n"
          ]
        },
        {
          "output_type": "stream",
          "name": "stderr",
          "text": [
            "Epoch 3, Train Loss: 0.2760, Train Acc.: 0.8842: 100%|██████████| 391/391 [00:20<00:00, 18.69it/s]\n",
            "100%|██████████| 79/79 [00:02<00:00, 33.59it/s]\n"
          ]
        },
        {
          "output_type": "stream",
          "name": "stdout",
          "text": [
            "Epoch 3, Val Loss: 0.3691, Val Acc.: 0.8498\n"
          ]
        },
        {
          "output_type": "stream",
          "name": "stderr",
          "text": [
            "Epoch 4, Train Loss: 0.2317, Train Acc.: 0.9050: 100%|██████████| 391/391 [00:21<00:00, 18.49it/s]\n",
            "100%|██████████| 79/79 [00:02<00:00, 29.51it/s]\n"
          ]
        },
        {
          "output_type": "stream",
          "name": "stdout",
          "text": [
            "Epoch 4, Val Loss: 0.3560, Val Acc.: 0.8480\n"
          ]
        },
        {
          "output_type": "stream",
          "name": "stderr",
          "text": [
            "Epoch 5, Train Loss: 0.1897, Train Acc.: 0.9255: 100%|██████████| 391/391 [00:20<00:00, 19.27it/s]\n",
            "100%|██████████| 79/79 [00:03<00:00, 23.37it/s]\n"
          ]
        },
        {
          "output_type": "stream",
          "name": "stdout",
          "text": [
            "Epoch 5, Val Loss: 0.3941, Val Acc.: 0.8520\n"
          ]
        },
        {
          "output_type": "stream",
          "name": "stderr",
          "text": [
            "Epoch 6, Train Loss: 0.1544, Train Acc.: 0.9408: 100%|██████████| 391/391 [00:20<00:00, 18.78it/s]\n",
            "100%|██████████| 79/79 [00:02<00:00, 29.75it/s]\n"
          ]
        },
        {
          "output_type": "stream",
          "name": "stdout",
          "text": [
            "Epoch 6, Val Loss: 0.4949, Val Acc.: 0.8286\n"
          ]
        },
        {
          "output_type": "stream",
          "name": "stderr",
          "text": [
            "Epoch 7, Train Loss: 0.1238, Train Acc.: 0.9548: 100%|██████████| 391/391 [00:20<00:00, 18.96it/s]\n",
            "100%|██████████| 79/79 [00:02<00:00, 33.46it/s]\n"
          ]
        },
        {
          "output_type": "stream",
          "name": "stdout",
          "text": [
            "Epoch 7, Val Loss: 0.4936, Val Acc.: 0.8390\n"
          ]
        },
        {
          "output_type": "stream",
          "name": "stderr",
          "text": [
            "Epoch 8, Train Loss: 0.0952, Train Acc.: 0.9659: 100%|██████████| 391/391 [00:20<00:00, 18.68it/s]\n",
            "100%|██████████| 79/79 [00:02<00:00, 32.90it/s]\n"
          ]
        },
        {
          "output_type": "stream",
          "name": "stdout",
          "text": [
            "Epoch 8, Val Loss: 0.6228, Val Acc.: 0.8268\n"
          ]
        },
        {
          "output_type": "stream",
          "name": "stderr",
          "text": [
            "Epoch 9, Train Loss: 0.0758, Train Acc.: 0.9741: 100%|██████████| 391/391 [00:20<00:00, 18.67it/s]\n",
            "100%|██████████| 79/79 [00:02<00:00, 33.39it/s]\n"
          ]
        },
        {
          "output_type": "stream",
          "name": "stdout",
          "text": [
            "Epoch 9, Val Loss: 0.6826, Val Acc.: 0.8412\n"
          ]
        },
        {
          "output_type": "stream",
          "name": "stderr",
          "text": [
            "Epoch 10, Train Loss: 0.0534, Train Acc.: 0.9816: 100%|██████████| 391/391 [00:20<00:00, 18.88it/s]\n",
            "100%|██████████| 79/79 [00:02<00:00, 26.67it/s]"
          ]
        },
        {
          "output_type": "stream",
          "name": "stdout",
          "text": [
            "Epoch 10, Val Loss: 0.6731, Val Acc.: 0.8370\n"
          ]
        },
        {
          "output_type": "stream",
          "name": "stderr",
          "text": [
            "\n"
          ]
        }
      ],
      "source": [
        "NUM_EPOCHS = 10\n",
        "LR = 1e-3\n",
        "WEIGHT_DECAY = 1e-3\n",
        "EMBEDDING_DIM = 96\n",
        "NUM_HEADS = 4\n",
        "NUM_LAYERS = 3\n",
        "\n",
        "model = SentimentTransformer(vocab_size=VOCAB_SIZE,\n",
        "                             max_len=MAX_LENGTH,\n",
        "                             embedding_dim=EMBEDDING_DIM,\n",
        "                             num_heads=NUM_HEADS,\n",
        "                             num_layers=NUM_LAYERS,\n",
        "                             pad_idx=PAD_ID)\n",
        "\n",
        "criterion = nn.BCELoss() # Model output should have sigmoid applied!\n",
        "optimizer = optim.AdamW(model.parameters(), lr=LR, weight_decay=WEIGHT_DECAY)\n",
        "\n",
        "n_params = sum(p.numel() for p in model.parameters())\n",
        "print(f\"Number of parameters: {n_params}\")\n",
        "\n",
        "train_model(model=model,\n",
        "            criterion=criterion,\n",
        "            optimizer=optimizer,\n",
        "            train_loader=train_loader,\n",
        "            val_loader=val_loader,\n",
        "            num_epochs=NUM_EPOCHS,\n",
        "            pad_id=PAD_ID)"
      ]
    },
    {
      "cell_type": "markdown",
      "metadata": {
        "id": "u6tmeEn49tGb"
      },
      "source": [
        "### 2.6 Evaluating the Model on Unseen Data\n",
        "\n",
        "We evaluate the model on the test set and print the test accuracy."
      ]
    },
    {
      "cell_type": "code",
      "execution_count": 16,
      "metadata": {
        "id": "7OxhrE_39tGb",
        "outputId": "9792c76c-76b5-4e03-d38b-0eac075ca2a1",
        "colab": {
          "base_uri": "https://localhost:8080/"
        }
      },
      "outputs": [
        {
          "output_type": "stream",
          "name": "stderr",
          "text": [
            "100%|██████████| 313/313 [00:10<00:00, 30.48it/s]"
          ]
        },
        {
          "output_type": "stream",
          "name": "stdout",
          "text": [
            "Accuracy (test): 0.8347\n"
          ]
        },
        {
          "output_type": "stream",
          "name": "stderr",
          "text": [
            "\n"
          ]
        }
      ],
      "source": [
        "def evaluate_model(model, test_loader, pad_id):\n",
        "\n",
        "    model.eval()\n",
        "    device = torch.device(\"cuda\" if torch.cuda.is_available() else \"cpu\")\n",
        "    model.to(device)\n",
        "    correct, total = 0, 0\n",
        "    with torch.no_grad():\n",
        "        for sequences, labels in tqdm(test_loader):\n",
        "            sequences = sequences.to(device)\n",
        "            labels = labels.float().to(device)\n",
        "            attention_mask = create_mask(sequences, pad_id)\n",
        "            outputs = model(sequences, mask=attention_mask)\n",
        "            predictions = (outputs > 0.5).float()\n",
        "            correct += (predictions == labels).sum().item()\n",
        "            total += labels.size(0)\n",
        "    return correct / total\n",
        "\n",
        "accuracy = evaluate_model(model, test_loader, PAD_ID)\n",
        "print(f\"Accuracy (test): {accuracy:.4f}\")"
      ]
    },
    {
      "cell_type": "markdown",
      "metadata": {
        "id": "1KMISkV49tGc"
      },
      "source": [
        "### 2.7 Testing the Model on Custom Examples\n",
        "\n",
        "For fun, we test the model on some custom examples from IMDb."
      ]
    },
    {
      "cell_type": "code",
      "execution_count": 17,
      "metadata": {
        "id": "6XlZ8Uzz9tGc"
      },
      "outputs": [],
      "source": [
        "# Function to classify a single review\n",
        "def classify_review(review, model, tokenizer, pad_idx, cls_idx, max_length):\n",
        "    # TODO: Implement this function\n",
        "    # Remember to set the model to evaluation mode, preprocess the review, tokenize it with [CLS] token prepended, pad/truncate and create a mask before passing it to the model\n",
        "    model.eval()\n",
        "    device = torch.device(\"cuda\" if torch.cuda.is_available() else \"cpu\")\n",
        "    model.to(device)\n",
        "\n",
        "    review = preprocess_text(review)\n",
        "\n",
        "    tokenized_text = tokenizer.encode(review)\n",
        "    token_ids = tokenized_text.ids\n",
        "    token_ids = [cls_idx] + token_ids\n",
        "    if len(token_ids) < max_length:\n",
        "        token_ids += [pad_idx] * (max_length - len(token_ids))\n",
        "    else:\n",
        "        token_ids = token_ids[:max_length]\n",
        "    sequences = torch.tensor([token_ids]).to(device)  # Create a tensor and move to device\n",
        "\n",
        "\n",
        "    with torch.no_grad():\n",
        "        sequences = sequences.to(device)\n",
        "\n",
        "        attention_mask = create_mask(sequences, pad_idx)\n",
        "        outputs = model(sequences, mask=attention_mask)\n",
        "\n",
        "        sentiment = (outputs > 0.5).float()\n",
        "        p = outputs.item()\n",
        "\n",
        "\n",
        "    return sentiment, p\n",
        "\n"
      ]
    },
    {
      "cell_type": "code",
      "execution_count": 18,
      "metadata": {
        "id": "014fwn609tGc"
      },
      "outputs": [],
      "source": [
        "# TODO: Classify some reviews chosen by you\n",
        "first=classify_review(review=\"This is some of the weirdest shit I have ever seen! Really impressed\",model=model, tokenizer=\n",
        "                tokenizer ,pad_idx=PAD_ID,cls_idx=CLS_ID,max_length=256)\n",
        "second= classify_review(review=\"This is some of the weirdest shit I have ever seen! SUCKED BALLS\",model=model, tokenizer=\n",
        "                tokenizer ,pad_idx=PAD_ID,cls_idx=CLS_ID,max_length=256)\n",
        "third =classify_review(review=\"Wow, I dont really know how to feel about this movie. Its not bad, but not good\",model=model, tokenizer=\n",
        "                tokenizer ,pad_idx=PAD_ID,cls_idx=CLS_ID,max_length=256)\n",
        "fourth =classify_review(review=\"WORST MOVIE EVER! I will never watch it again, truly bad. Horrible movie\",model=model, tokenizer=\n",
        "                tokenizer ,pad_idx=PAD_ID,cls_idx=CLS_ID,max_length=256)"
      ]
    },
    {
      "cell_type": "markdown",
      "metadata": {
        "id": "cd5bPCiO9tGc"
      },
      "source": []
    },
    {
      "cell_type": "code",
      "source": [
        "print(first)\n",
        "print(second)\n",
        "print(third)\n",
        "print(fourth)\n",
        "\n",
        "\n"
      ],
      "metadata": {
        "id": "7k719ufJ6Tex",
        "outputId": "31c7128d-b469-4d78-a859-e368c5b0537a",
        "colab": {
          "base_uri": "https://localhost:8080/"
        }
      },
      "execution_count": 19,
      "outputs": [
        {
          "output_type": "stream",
          "name": "stdout",
          "text": [
            "(tensor(1., device='cuda:0'), 0.9998987913131714)\n",
            "(tensor(1., device='cuda:0'), 0.8892558813095093)\n",
            "(tensor(0., device='cuda:0'), 0.05542749539017677)\n",
            "(tensor(0., device='cuda:0'), 0.003785551292821765)\n"
          ]
        }
      ]
    },
    {
      "cell_type": "code",
      "source": [],
      "metadata": {
        "id": "9DPwd40r6VyD"
      },
      "execution_count": null,
      "outputs": []
    }
  ],
  "metadata": {
    "kernelspec": {
      "display_name": "Python 3",
      "name": "python3"
    },
    "language_info": {
      "codemirror_mode": {
        "name": "ipython",
        "version": 3
      },
      "file_extension": ".py",
      "mimetype": "text/x-python",
      "name": "python",
      "nbconvert_exporter": "python",
      "pygments_lexer": "ipython3",
      "version": "3.12.2"
    },
    "colab": {
      "provenance": [],
      "gpuType": "T4"
    },
    "accelerator": "GPU"
  },
  "nbformat": 4,
  "nbformat_minor": 0
}